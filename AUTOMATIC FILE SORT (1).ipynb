{
 "cells": [
  {
   "cell_type": "code",
   "execution_count": 1,
   "id": "384e7722-3141-45c8-b7bf-ae19ee619044",
   "metadata": {},
   "outputs": [],
   "source": [
    "import os,shutil"
   ]
  },
  {
   "cell_type": "code",
   "execution_count": 3,
   "id": "87f30321-061a-4cc4-a783-d5eba1c78c88",
   "metadata": {},
   "outputs": [],
   "source": [
    "path = r\"E:/\""
   ]
  },
  {
   "cell_type": "code",
   "execution_count": 5,
   "id": "782e73ba-812d-444f-91fd-0700951bf848",
   "metadata": {},
   "outputs": [],
   "source": [
    "file_name = os.listdir(path)"
   ]
  },
  {
   "cell_type": "code",
   "execution_count": 33,
   "id": "bc7454e0-f61f-4a61-9bfc-d6dc5781b223",
   "metadata": {},
   "outputs": [],
   "source": [
    "folder_names = ['image file','pdf files','word files','video file']\n",
    "for loop in range(0,4):\n",
    "    if not os.path.exists(path+folder_names[loop]):\n",
    "        print(path + folder_names[loop])\n",
    "        os.makedirs(path + folder_names[loop])"
   ]
  },
  {
   "cell_type": "code",
   "execution_count": 39,
   "id": "f8380e36-6f4b-4c2f-b7ec-b25cd6f6a134",
   "metadata": {},
   "outputs": [],
   "source": [
    "for file in file_name:\n",
    "    if\".jpg\" in file and not os.path.exists(path + \"image file/\" + file):\n",
    "        shutil.move(path + file, path + \"image file/\" + file)\n",
    "    elif \".pdf\" in file and not os.path.exists(path + \"pdf files/\" + file):\n",
    "        shutil.move(path + file, path + \"pdf files/\" + file)\n",
    "    elif \".docx\" in file and not os.path.exists(path + \"word files/\" + file):\n",
    "        shutil.move(path + file, path + \"word files/\" + file)\n",
    "    elif \".mp4\" in file and not os.path.exists(path + \"video file/\" + file):\n",
    "        shutil.move(path + file, path + \"video file/\" + file)"
   ]
  },
  {
   "cell_type": "code",
   "execution_count": 35,
   "id": "97910f29-2d0d-4b11-98b2-dd4922897423",
   "metadata": {},
   "outputs": [],
   "source": []
  },
  {
   "cell_type": "code",
   "execution_count": null,
   "id": "95cf4d46-e12c-47c0-a884-ba458e9de140",
   "metadata": {},
   "outputs": [],
   "source": []
  },
  {
   "cell_type": "code",
   "execution_count": null,
   "id": "ae6f993b-ae0a-43f6-8838-9d803e6d38c8",
   "metadata": {},
   "outputs": [],
   "source": []
  },
  {
   "cell_type": "code",
   "execution_count": null,
   "id": "25221fb2-ae41-4ba1-b89a-1abb565983bc",
   "metadata": {},
   "outputs": [],
   "source": []
  }
 ],
 "metadata": {
  "kernelspec": {
   "display_name": "Python 3 (ipykernel)",
   "language": "python",
   "name": "python3"
  },
  "language_info": {
   "codemirror_mode": {
    "name": "ipython",
    "version": 3
   },
   "file_extension": ".py",
   "mimetype": "text/x-python",
   "name": "python",
   "nbconvert_exporter": "python",
   "pygments_lexer": "ipython3",
   "version": "3.12.4"
  }
 },
 "nbformat": 4,
 "nbformat_minor": 5
}
