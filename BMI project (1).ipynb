{
 "cells": [
  {
   "cell_type": "code",
   "execution_count": 1,
   "id": "0ae92f2e-47f1-425e-996c-2be991286666",
   "metadata": {},
   "outputs": [
    {
     "name": "stdin",
     "output_type": "stream",
     "text": [
      "enter your name: jackline\n"
     ]
    }
   ],
   "source": [
    "name = input(\"enter your name:\")"
   ]
  },
  {
   "cell_type": "code",
   "execution_count": 3,
   "id": "59dcdacc-3922-4700-b09f-303176e8487f",
   "metadata": {},
   "outputs": [
    {
     "name": "stdin",
     "output_type": "stream",
     "text": [
      "enter your weight in pound: 170\n"
     ]
    }
   ],
   "source": [
    "weight = int(input(\"enter your weight in pound:\"))"
   ]
  },
  {
   "cell_type": "code",
   "execution_count": 13,
   "id": "8b0b6fa0-ac6e-4b46-969f-c6b27cab5378",
   "metadata": {},
   "outputs": [
    {
     "name": "stdin",
     "output_type": "stream",
     "text": [
      "enter your height in inches: 69\n"
     ]
    }
   ],
   "source": [
    "height = int(input(\"enter your height in inches:\"))"
   ]
  },
  {
   "cell_type": "code",
   "execution_count": 17,
   "id": "e592658a-732d-4f62-b366-1caf48c3e713",
   "metadata": {},
   "outputs": [
    {
     "name": "stdout",
     "output_type": "stream",
     "text": [
      "25.101869355177485\n"
     ]
    }
   ],
   "source": [
    "BMI = (weight * 703) / (height * height)\n",
    "print(BMI)"
   ]
  },
  {
   "cell_type": "code",
   "execution_count": 21,
   "id": "213099f2-a5fd-4704-b763-4cf4c5b3c29a",
   "metadata": {},
   "outputs": [
    {
     "name": "stdout",
     "output_type": "stream",
     "text": [
      "jackline,overweight.\n"
     ]
    }
   ],
   "source": [
    "if BMI>0:\n",
    "    if(BMI<18.5):\n",
    "        print(name +\",underweight.\")\n",
    "    elif (BMI<+24.9):\n",
    "        print(name +\",normal weight.\")\n",
    "    elif (BMI<29.9):\n",
    "        print(name +\",overweight.\")\n",
    "    elif (BMI<34.9):\n",
    "        print(name +\",obese.\")\n",
    "    else:\n",
    "        print(\"enter valid input\")"
   ]
  },
  {
   "cell_type": "code",
   "execution_count": null,
   "id": "da03da18-87f2-40fe-98fe-2429ef0ca48f",
   "metadata": {},
   "outputs": [],
   "source": []
  }
 ],
 "metadata": {
  "kernelspec": {
   "display_name": "Python 3 (ipykernel)",
   "language": "python",
   "name": "python3"
  },
  "language_info": {
   "codemirror_mode": {
    "name": "ipython",
    "version": 3
   },
   "file_extension": ".py",
   "mimetype": "text/x-python",
   "name": "python",
   "nbconvert_exporter": "python",
   "pygments_lexer": "ipython3",
   "version": "3.12.4"
  }
 },
 "nbformat": 4,
 "nbformat_minor": 5
}
